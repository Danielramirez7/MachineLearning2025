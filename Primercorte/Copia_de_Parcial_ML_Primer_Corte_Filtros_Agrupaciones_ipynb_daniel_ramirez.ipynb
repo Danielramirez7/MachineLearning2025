{
  "cells": [
    {
      "cell_type": "markdown",
      "id": "0d026f17",
      "metadata": {
        "id": "0d026f17"
      },
      "source": [
        "# Parcial 1 · Machine Learning (Primer Corte)\n",
        "**Formato:** Notebook de Python (Colab/Jupyter)\n",
        "\n",
        "**Instrucciones**\n",
        "- Responde directamente en las celdas indicadas con *Tu respuesta aquí*.\n",
        "- No borres el enunciado de las preguntas.\n",
        "- No uses gráficos; solo filtros, agrupaciones y cálculos básicos.\n",
        "- Mantén el código y comentarios en **español**.\n",
        "- **Entrega**: sube este `.ipynb` resuelto a la plataforma indicada.\n",
        "\n",
        "**Dataset esperado (`students.csv`)**\n",
        "Columnas: `gender, race/ethnicity, parental level of education, lunch, test preparation course, math score, reading score, writing score`.\n",
        "\n",
        "**Estructura del parcial**\n",
        "- **Sección A — Fundamentos (6 preguntas)**\n",
        "- **Sección B — EDA con filtros y agrupaciones (6 preguntas)**\n",
        "\n",
        "**Puntaje**: 100 puntos (≈ 8.3 por pregunta).\n",
        "\n",
        "---"
      ]
    },
    {
      "cell_type": "code",
      "execution_count": null,
      "id": "7edbe5e7",
      "metadata": {
        "id": "7edbe5e7",
        "colab": {
          "base_uri": "https://localhost:8080/"
        },
        "outputId": "8567af68-3fdc-4671-dc81-1e951a9b2193"
      },
      "outputs": [
        {
          "output_type": "stream",
          "name": "stdout",
          "text": [
            "--2025-09-17 20:46:26--  https://raw.githubusercontent.com/javierherrera1996/lecture_analytics/main/StudentsPerformance.csv\n",
            "Resolving raw.githubusercontent.com (raw.githubusercontent.com)... 185.199.109.133, 185.199.111.133, 185.199.108.133, ...\n",
            "Connecting to raw.githubusercontent.com (raw.githubusercontent.com)|185.199.109.133|:443... connected.\n",
            "HTTP request sent, awaiting response... 200 OK\n",
            "Length: 72036 (70K) [text/plain]\n",
            "Saving to: ‘StudentsPerformance.csv’\n",
            "\n",
            "\rStudentsPerformance   0%[                    ]       0  --.-KB/s               \rStudentsPerformance 100%[===================>]  70.35K  --.-KB/s    in 0.02s   \n",
            "\n",
            "2025-09-17 20:46:26 (3.27 MB/s) - ‘StudentsPerformance.csv’ saved [72036/72036]\n",
            "\n"
          ]
        }
      ],
      "source": [
        "!wget https://raw.githubusercontent.com/javierherrera1996/lecture_analytics/main/StudentsPerformance.csv"
      ]
    },
    {
      "cell_type": "markdown",
      "id": "cb60e77d",
      "metadata": {
        "id": "cb60e77d"
      },
      "source": [
        "### Dependencias (ejecuta esta celda primero)"
      ]
    },
    {
      "cell_type": "code",
      "execution_count": null,
      "id": "34635d2a",
      "metadata": {
        "id": "34635d2a"
      },
      "outputs": [],
      "source": [
        "import pandas as pd\n",
        "import numpy as np"
      ]
    },
    {
      "cell_type": "markdown",
      "id": "f8613aea",
      "metadata": {
        "id": "f8613aea"
      },
      "source": [
        "## Carga del dataset\n",
        "Sube un archivo **`students.csv`** (mismo directorio del notebook) o ajusta la ruta en la celda. Si no tienes el archivo, puedes **generar una muestra mínima** con la celda opcional.\n"
      ]
    },
    {
      "cell_type": "code",
      "execution_count": null,
      "id": "06f6c5f4",
      "metadata": {
        "id": "06f6c5f4"
      },
      "outputs": [],
      "source": [
        "df = pd.read_csv(\"StudentsPerformance.csv\")"
      ]
    },
    {
      "cell_type": "markdown",
      "id": "93ebf254",
      "metadata": {
        "id": "93ebf254"
      },
      "source": [
        "#### (Opcional) Generar una muestra mínima si no tienes el CSV"
      ]
    },
    {
      "cell_type": "code",
      "execution_count": null,
      "id": "8a77cd91",
      "metadata": {
        "id": "8a77cd91"
      },
      "outputs": [],
      "source": []
    },
    {
      "cell_type": "markdown",
      "id": "b05fd9f0",
      "metadata": {
        "id": "b05fd9f0"
      },
      "source": [
        "## Sección A — Fundamentos de Machine Learning (Conceptual, sin métricas ni gráficos)"
      ]
    },
    {
      "cell_type": "markdown",
      "id": "f84a0d9b",
      "metadata": {
        "id": "f84a0d9b"
      },
      "source": [
        "### A1. Supervisado vs No Supervisado\n",
        "**Describe** con tus palabras la diferencia entre **aprendizaje supervisado** y **no supervisado**. Da **1 ejemplo** de cada uno aplicado a educación o negocios.\n",
        "\n",
        "_Tu respuesta aquí (Markdown):_ la diferencia entre aprendizaje supervisado y no supervisado es que en el  aprendizaje supervisado se usan datos con respuestas ya conocidas para entrenar al modelo por ejemplo: como cuando aprende a predecir si un estudiante aprobará o no según sus notas y asistencia\n",
        "\n",
        " el no supervisado trabaja sin respuestas, busca por si mismo patrones, como cuando una tienda clasifica a sus clientes en grupos según lo que compran"
      ]
    },
    {
      "cell_type": "markdown",
      "id": "075d0640",
      "metadata": {
        "id": "075d0640"
      },
      "source": [
        "### A2. Variable dependiente e independientes\n",
        "Si queremos predecir `math score`, ¿cuál es la **variable dependiente**? Menciona **dos** posibles **variables independientes** justificando por qué.\n",
        "\n",
        "_Tu respuesta aquí (Markdown): la variable dependiente es el math score ya que es el resultado que se busca predecir.\n",
        "\n",
        "las variables independientes son:\n",
        "1. Parental level of education el nivel educativo de los padres suele estar relacionado con el rendimiento académico de los hijos, ya que puede influir en el apoyo y el entorno de estudio en casa\n",
        "\n",
        "2. Test preparation course  haber tomado o no un curso de preparacion puede impactar directamente en el puntaje de matemáticas, porque brinda herramientas y práctica adicional"
      ]
    },
    {
      "cell_type": "markdown",
      "id": "42cc723f",
      "metadata": {
        "id": "42cc723f"
      },
      "source": [
        "### A3. Clasificación binaria\n",
        "Si clasificamos estudiantes en **Aprobado** (≥ 60) vs **No aprobado**, ¿qué tipo de aprendizaje es? Justifica brevemente.\n",
        "\n",
        "_Tu respuesta aquí (Markdown): es apredizaje supervisado porque tiene una etiqueta de aprobado y no aprobado, y el sistema asigna su resultado apartir de los datos sumistrados"
      ]
    },
    {
      "cell_type": "markdown",
      "id": "bf02bab8",
      "metadata": {
        "id": "bf02bab8"
      },
      "source": [
        "### A4. Casos de negocio (supervisado)\n",
        "Da **dos** ejemplos de problemas de negocio donde usarías aprendizaje **supervisado** y explica por qué.\n",
        "\n",
        "_Tu respuesta aquí (Markdown):_\n",
        "\n",
        "1. predecir ventas futuras apartir de datos historicos de ventas y publicidad, porque ya se conoce la cantidad vendida\n",
        "2. clasificar correos como spam o no spam, usando ejemplos previos ya etiquetados\n"
      ]
    },
    {
      "cell_type": "markdown",
      "id": "feef5edc",
      "metadata": {
        "id": "feef5edc"
      },
      "source": [
        "### A5. Casos de negocio (no supervisado)\n",
        "Da **dos** ejemplos de problemas de negocio donde usarías aprendizaje **no supervisado** y explica por qué.\n",
        "\n",
        "_Tu respuesta aquí (Markdown):\n",
        "\n",
        "1. agrupar a cliente de una tienda de ropa segun sus gastos el sistema arma grupos solo, por ejemplo los que compran casi siempre en descuento, los que van seguido o los que prefieren ropa mas cara.\n",
        "Es no supervisado porque al modelo no se le dijo que grupos habia, el mismo los encontro\n",
        "\n",
        "2. productos en un supermercado: el modelo detecta objetos que suelen ir juntos en el carrito, como leche, pan y huevos, y asi de esa menra hace combos.\n",
        "es no supervisado por que no hya catgorias, el sistema lo descubrio y asimilo\n"
      ]
    },
    {
      "cell_type": "markdown",
      "id": "33f2b6fd",
      "metadata": {
        "id": "33f2b6fd"
      },
      "source": [
        "### A6. Segmentación por similitud\n",
        "Si quieres segmentar estudiantes por similitud de `reading score` y `writing score`, ¿qué tipo de aprendizaje usarías y por qué?\n",
        "\n",
        "_Tu respuesta aquí (Markdown):  apredizaje no supervisado porque no tiene etiquetas que digan en que grupo esta cada estudiante, por ende lo que se busca es que el sistema encuentre por si mismo las agrupaciones segun las similitudes en sus puntajes de lectura y escritura"
      ]
    },
    {
      "cell_type": "markdown",
      "id": "b7f594ed",
      "metadata": {
        "id": "b7f594ed"
      },
      "source": [
        "## Sección B — EDA (solo filtros y agrupaciones, foco de negocio)"
      ]
    },
    {
      "cell_type": "markdown",
      "id": "f60a6103",
      "metadata": {
        "id": "f60a6103"
      },
      "source": [
        "### B7. Promedio de matemáticas por género\n",
        "Calcula el **promedio de `math score` por `gender`**.\n",
        "- ¿Qué género tiene mejor promedio?\n",
        "- **Conclusión de negocio**: en 1–2 líneas, ¿qué harías con esta información?\n",
        "\n",
        "_Escribe tu código y comentarios:_"
      ]
    },
    {
      "cell_type": "code",
      "execution_count": 23,
      "id": "34e84ef6",
      "metadata": {
        "id": "34e84ef6",
        "colab": {
          "base_uri": "https://localhost:8080/",
          "height": 178
        },
        "outputId": "8c4cc52b-1af6-484c-b354-d7cc57ef9136"
      },
      "outputs": [
        {
          "output_type": "execute_result",
          "data": {
            "text/plain": [
              "gender\n",
              "female    63.633205\n",
              "male      68.728216\n",
              "Name: math score, dtype: float64"
            ],
            "text/html": [
              "<div>\n",
              "<style scoped>\n",
              "    .dataframe tbody tr th:only-of-type {\n",
              "        vertical-align: middle;\n",
              "    }\n",
              "\n",
              "    .dataframe tbody tr th {\n",
              "        vertical-align: top;\n",
              "    }\n",
              "\n",
              "    .dataframe thead th {\n",
              "        text-align: right;\n",
              "    }\n",
              "</style>\n",
              "<table border=\"1\" class=\"dataframe\">\n",
              "  <thead>\n",
              "    <tr style=\"text-align: right;\">\n",
              "      <th></th>\n",
              "      <th>math score</th>\n",
              "    </tr>\n",
              "    <tr>\n",
              "      <th>gender</th>\n",
              "      <th></th>\n",
              "    </tr>\n",
              "  </thead>\n",
              "  <tbody>\n",
              "    <tr>\n",
              "      <th>female</th>\n",
              "      <td>63.633205</td>\n",
              "    </tr>\n",
              "    <tr>\n",
              "      <th>male</th>\n",
              "      <td>68.728216</td>\n",
              "    </tr>\n",
              "  </tbody>\n",
              "</table>\n",
              "</div><br><label><b>dtype:</b> float64</label>"
            ]
          },
          "metadata": {},
          "execution_count": 23
        }
      ],
      "source": [
        " df.groupby(\"gender\")[\"math score\"].mean()\n"
      ]
    },
    {
      "cell_type": "markdown",
      "source": [
        "el genero que tine mejor promedio es el de los hombres, y lo que se peude hacer con esta informacion es que con estos datos, lo ideal seria crear apoyos extra en matematicas para las mujeres ayudando a que el rendimiento sea mas parejo entre generos."
      ],
      "metadata": {
        "id": "sehhrIMLiity"
      },
      "id": "sehhrIMLiity"
    },
    {
      "cell_type": "markdown",
      "id": "5127174e",
      "metadata": {
        "id": "5127174e"
      },
      "source": [
        "### B8. Lectura por grupo étnico\n",
        "Calcula el **promedio de `reading score` por `race/ethnicity`**.\n",
        "- ¿Qué grupo tiene mejor desempeño?\n",
        "- **Aplicación**: ¿cómo usarías esto en un programa de apoyo escolar?\n",
        "\n",
        "_Escribe tu código y comentarios:_"
      ]
    },
    {
      "cell_type": "code",
      "execution_count": null,
      "id": "7fd591b9",
      "metadata": {
        "id": "7fd591b9",
        "colab": {
          "base_uri": "https://localhost:8080/",
          "height": 272
        },
        "outputId": "cdc4adea-d778-46b5-82e3-b9527c04da17"
      },
      "outputs": [
        {
          "output_type": "execute_result",
          "data": {
            "text/plain": [
              "race/ethnicity\n",
              "group A    64.674157\n",
              "group B    67.352632\n",
              "group C    69.103448\n",
              "group D    70.030534\n",
              "group E    73.028571\n",
              "Name: reading score, dtype: float64"
            ],
            "text/html": [
              "<div>\n",
              "<style scoped>\n",
              "    .dataframe tbody tr th:only-of-type {\n",
              "        vertical-align: middle;\n",
              "    }\n",
              "\n",
              "    .dataframe tbody tr th {\n",
              "        vertical-align: top;\n",
              "    }\n",
              "\n",
              "    .dataframe thead th {\n",
              "        text-align: right;\n",
              "    }\n",
              "</style>\n",
              "<table border=\"1\" class=\"dataframe\">\n",
              "  <thead>\n",
              "    <tr style=\"text-align: right;\">\n",
              "      <th></th>\n",
              "      <th>reading score</th>\n",
              "    </tr>\n",
              "    <tr>\n",
              "      <th>race/ethnicity</th>\n",
              "      <th></th>\n",
              "    </tr>\n",
              "  </thead>\n",
              "  <tbody>\n",
              "    <tr>\n",
              "      <th>group A</th>\n",
              "      <td>64.674157</td>\n",
              "    </tr>\n",
              "    <tr>\n",
              "      <th>group B</th>\n",
              "      <td>67.352632</td>\n",
              "    </tr>\n",
              "    <tr>\n",
              "      <th>group C</th>\n",
              "      <td>69.103448</td>\n",
              "    </tr>\n",
              "    <tr>\n",
              "      <th>group D</th>\n",
              "      <td>70.030534</td>\n",
              "    </tr>\n",
              "    <tr>\n",
              "      <th>group E</th>\n",
              "      <td>73.028571</td>\n",
              "    </tr>\n",
              "  </tbody>\n",
              "</table>\n",
              "</div><br><label><b>dtype:</b> float64</label>"
            ]
          },
          "metadata": {},
          "execution_count": 20
        }
      ],
      "source": [
        " df.groupby(\"race/ethnicity\")[\"reading score\"].mean()"
      ]
    },
    {
      "cell_type": "code",
      "source": [
        " promedios_reading.loc[promedios_reading[\"reading score\"].idxmax()]"
      ],
      "metadata": {
        "colab": {
          "base_uri": "https://localhost:8080/",
          "height": 147
        },
        "id": "eTWNsJoXkLdp",
        "outputId": "eb6691d1-6bfa-4328-b3ec-6c169ccb9d7c"
      },
      "id": "eTWNsJoXkLdp",
      "execution_count": null,
      "outputs": [
        {
          "output_type": "execute_result",
          "data": {
            "text/plain": [
              "race/ethnicity      group E\n",
              "reading score     73.028571\n",
              "Name: 4, dtype: object"
            ],
            "text/html": [
              "<div>\n",
              "<style scoped>\n",
              "    .dataframe tbody tr th:only-of-type {\n",
              "        vertical-align: middle;\n",
              "    }\n",
              "\n",
              "    .dataframe tbody tr th {\n",
              "        vertical-align: top;\n",
              "    }\n",
              "\n",
              "    .dataframe thead th {\n",
              "        text-align: right;\n",
              "    }\n",
              "</style>\n",
              "<table border=\"1\" class=\"dataframe\">\n",
              "  <thead>\n",
              "    <tr style=\"text-align: right;\">\n",
              "      <th></th>\n",
              "      <th>4</th>\n",
              "    </tr>\n",
              "  </thead>\n",
              "  <tbody>\n",
              "    <tr>\n",
              "      <th>race/ethnicity</th>\n",
              "      <td>group E</td>\n",
              "    </tr>\n",
              "    <tr>\n",
              "      <th>reading score</th>\n",
              "      <td>73.028571</td>\n",
              "    </tr>\n",
              "  </tbody>\n",
              "</table>\n",
              "</div><br><label><b>dtype:</b> object</label>"
            ]
          },
          "metadata": {},
          "execution_count": 8
        }
      ]
    },
    {
      "cell_type": "markdown",
      "source": [
        "esta información serviría para enfocar refuerzos en los grupos con puntajes mas bajos, diseñando estrategias de lectura personalizadas para reducir las diferencias de desempeño entre ellos"
      ],
      "metadata": {
        "id": "Mf8WPKtnkxfR"
      },
      "id": "Mf8WPKtnkxfR"
    },
    {
      "cell_type": "markdown",
      "id": "ec29181f",
      "metadata": {
        "id": "ec29181f"
      },
      "source": [
        "### B9. Impacto del tipo de almuerzo\n",
        "Filtra estudiantes con `lunch = free/reduced` y calcula el **promedio de `math score` y `reading score`**. Compáralo con `lunch = standard`.\n",
        "- **Conclusión de negocio**: ¿qué acción propones?\n",
        "\n",
        "_Escribe tu código y comentarios:_"
      ]
    },
    {
      "cell_type": "code",
      "execution_count": null,
      "id": "536a926c",
      "metadata": {
        "id": "536a926c",
        "colab": {
          "base_uri": "https://localhost:8080/",
          "height": 143
        },
        "outputId": "2da5d210-4df3-43ac-925e-639e856a372b"
      },
      "outputs": [
        {
          "output_type": "execute_result",
          "data": {
            "text/plain": [
              "              math score  reading score\n",
              "lunch                                  \n",
              "free/reduced   58.921127      64.653521\n",
              "standard       70.034109      71.654264"
            ],
            "text/html": [
              "\n",
              "  <div id=\"df-76da2bb7-1594-44ff-979f-29b7d9e4bc21\" class=\"colab-df-container\">\n",
              "    <div>\n",
              "<style scoped>\n",
              "    .dataframe tbody tr th:only-of-type {\n",
              "        vertical-align: middle;\n",
              "    }\n",
              "\n",
              "    .dataframe tbody tr th {\n",
              "        vertical-align: top;\n",
              "    }\n",
              "\n",
              "    .dataframe thead th {\n",
              "        text-align: right;\n",
              "    }\n",
              "</style>\n",
              "<table border=\"1\" class=\"dataframe\">\n",
              "  <thead>\n",
              "    <tr style=\"text-align: right;\">\n",
              "      <th></th>\n",
              "      <th>math score</th>\n",
              "      <th>reading score</th>\n",
              "    </tr>\n",
              "    <tr>\n",
              "      <th>lunch</th>\n",
              "      <th></th>\n",
              "      <th></th>\n",
              "    </tr>\n",
              "  </thead>\n",
              "  <tbody>\n",
              "    <tr>\n",
              "      <th>free/reduced</th>\n",
              "      <td>58.921127</td>\n",
              "      <td>64.653521</td>\n",
              "    </tr>\n",
              "    <tr>\n",
              "      <th>standard</th>\n",
              "      <td>70.034109</td>\n",
              "      <td>71.654264</td>\n",
              "    </tr>\n",
              "  </tbody>\n",
              "</table>\n",
              "</div>\n",
              "    <div class=\"colab-df-buttons\">\n",
              "\n",
              "  <div class=\"colab-df-container\">\n",
              "    <button class=\"colab-df-convert\" onclick=\"convertToInteractive('df-76da2bb7-1594-44ff-979f-29b7d9e4bc21')\"\n",
              "            title=\"Convert this dataframe to an interactive table.\"\n",
              "            style=\"display:none;\">\n",
              "\n",
              "  <svg xmlns=\"http://www.w3.org/2000/svg\" height=\"24px\" viewBox=\"0 -960 960 960\">\n",
              "    <path d=\"M120-120v-720h720v720H120Zm60-500h600v-160H180v160Zm220 220h160v-160H400v160Zm0 220h160v-160H400v160ZM180-400h160v-160H180v160Zm440 0h160v-160H620v160ZM180-180h160v-160H180v160Zm440 0h160v-160H620v160Z\"/>\n",
              "  </svg>\n",
              "    </button>\n",
              "\n",
              "  <style>\n",
              "    .colab-df-container {\n",
              "      display:flex;\n",
              "      gap: 12px;\n",
              "    }\n",
              "\n",
              "    .colab-df-convert {\n",
              "      background-color: #E8F0FE;\n",
              "      border: none;\n",
              "      border-radius: 50%;\n",
              "      cursor: pointer;\n",
              "      display: none;\n",
              "      fill: #1967D2;\n",
              "      height: 32px;\n",
              "      padding: 0 0 0 0;\n",
              "      width: 32px;\n",
              "    }\n",
              "\n",
              "    .colab-df-convert:hover {\n",
              "      background-color: #E2EBFA;\n",
              "      box-shadow: 0px 1px 2px rgba(60, 64, 67, 0.3), 0px 1px 3px 1px rgba(60, 64, 67, 0.15);\n",
              "      fill: #174EA6;\n",
              "    }\n",
              "\n",
              "    .colab-df-buttons div {\n",
              "      margin-bottom: 4px;\n",
              "    }\n",
              "\n",
              "    [theme=dark] .colab-df-convert {\n",
              "      background-color: #3B4455;\n",
              "      fill: #D2E3FC;\n",
              "    }\n",
              "\n",
              "    [theme=dark] .colab-df-convert:hover {\n",
              "      background-color: #434B5C;\n",
              "      box-shadow: 0px 1px 3px 1px rgba(0, 0, 0, 0.15);\n",
              "      filter: drop-shadow(0px 1px 2px rgba(0, 0, 0, 0.3));\n",
              "      fill: #FFFFFF;\n",
              "    }\n",
              "  </style>\n",
              "\n",
              "    <script>\n",
              "      const buttonEl =\n",
              "        document.querySelector('#df-76da2bb7-1594-44ff-979f-29b7d9e4bc21 button.colab-df-convert');\n",
              "      buttonEl.style.display =\n",
              "        google.colab.kernel.accessAllowed ? 'block' : 'none';\n",
              "\n",
              "      async function convertToInteractive(key) {\n",
              "        const element = document.querySelector('#df-76da2bb7-1594-44ff-979f-29b7d9e4bc21');\n",
              "        const dataTable =\n",
              "          await google.colab.kernel.invokeFunction('convertToInteractive',\n",
              "                                                    [key], {});\n",
              "        if (!dataTable) return;\n",
              "\n",
              "        const docLinkHtml = 'Like what you see? Visit the ' +\n",
              "          '<a target=\"_blank\" href=https://colab.research.google.com/notebooks/data_table.ipynb>data table notebook</a>'\n",
              "          + ' to learn more about interactive tables.';\n",
              "        element.innerHTML = '';\n",
              "        dataTable['output_type'] = 'display_data';\n",
              "        await google.colab.output.renderOutput(dataTable, element);\n",
              "        const docLink = document.createElement('div');\n",
              "        docLink.innerHTML = docLinkHtml;\n",
              "        element.appendChild(docLink);\n",
              "      }\n",
              "    </script>\n",
              "  </div>\n",
              "\n",
              "\n",
              "    <div id=\"df-219c373f-63f9-4f26-b954-52eaf3e3a738\">\n",
              "      <button class=\"colab-df-quickchart\" onclick=\"quickchart('df-219c373f-63f9-4f26-b954-52eaf3e3a738')\"\n",
              "                title=\"Suggest charts\"\n",
              "                style=\"display:none;\">\n",
              "\n",
              "<svg xmlns=\"http://www.w3.org/2000/svg\" height=\"24px\"viewBox=\"0 0 24 24\"\n",
              "     width=\"24px\">\n",
              "    <g>\n",
              "        <path d=\"M19 3H5c-1.1 0-2 .9-2 2v14c0 1.1.9 2 2 2h14c1.1 0 2-.9 2-2V5c0-1.1-.9-2-2-2zM9 17H7v-7h2v7zm4 0h-2V7h2v10zm4 0h-2v-4h2v4z\"/>\n",
              "    </g>\n",
              "</svg>\n",
              "      </button>\n",
              "\n",
              "<style>\n",
              "  .colab-df-quickchart {\n",
              "      --bg-color: #E8F0FE;\n",
              "      --fill-color: #1967D2;\n",
              "      --hover-bg-color: #E2EBFA;\n",
              "      --hover-fill-color: #174EA6;\n",
              "      --disabled-fill-color: #AAA;\n",
              "      --disabled-bg-color: #DDD;\n",
              "  }\n",
              "\n",
              "  [theme=dark] .colab-df-quickchart {\n",
              "      --bg-color: #3B4455;\n",
              "      --fill-color: #D2E3FC;\n",
              "      --hover-bg-color: #434B5C;\n",
              "      --hover-fill-color: #FFFFFF;\n",
              "      --disabled-bg-color: #3B4455;\n",
              "      --disabled-fill-color: #666;\n",
              "  }\n",
              "\n",
              "  .colab-df-quickchart {\n",
              "    background-color: var(--bg-color);\n",
              "    border: none;\n",
              "    border-radius: 50%;\n",
              "    cursor: pointer;\n",
              "    display: none;\n",
              "    fill: var(--fill-color);\n",
              "    height: 32px;\n",
              "    padding: 0;\n",
              "    width: 32px;\n",
              "  }\n",
              "\n",
              "  .colab-df-quickchart:hover {\n",
              "    background-color: var(--hover-bg-color);\n",
              "    box-shadow: 0 1px 2px rgba(60, 64, 67, 0.3), 0 1px 3px 1px rgba(60, 64, 67, 0.15);\n",
              "    fill: var(--button-hover-fill-color);\n",
              "  }\n",
              "\n",
              "  .colab-df-quickchart-complete:disabled,\n",
              "  .colab-df-quickchart-complete:disabled:hover {\n",
              "    background-color: var(--disabled-bg-color);\n",
              "    fill: var(--disabled-fill-color);\n",
              "    box-shadow: none;\n",
              "  }\n",
              "\n",
              "  .colab-df-spinner {\n",
              "    border: 2px solid var(--fill-color);\n",
              "    border-color: transparent;\n",
              "    border-bottom-color: var(--fill-color);\n",
              "    animation:\n",
              "      spin 1s steps(1) infinite;\n",
              "  }\n",
              "\n",
              "  @keyframes spin {\n",
              "    0% {\n",
              "      border-color: transparent;\n",
              "      border-bottom-color: var(--fill-color);\n",
              "      border-left-color: var(--fill-color);\n",
              "    }\n",
              "    20% {\n",
              "      border-color: transparent;\n",
              "      border-left-color: var(--fill-color);\n",
              "      border-top-color: var(--fill-color);\n",
              "    }\n",
              "    30% {\n",
              "      border-color: transparent;\n",
              "      border-left-color: var(--fill-color);\n",
              "      border-top-color: var(--fill-color);\n",
              "      border-right-color: var(--fill-color);\n",
              "    }\n",
              "    40% {\n",
              "      border-color: transparent;\n",
              "      border-right-color: var(--fill-color);\n",
              "      border-top-color: var(--fill-color);\n",
              "    }\n",
              "    60% {\n",
              "      border-color: transparent;\n",
              "      border-right-color: var(--fill-color);\n",
              "    }\n",
              "    80% {\n",
              "      border-color: transparent;\n",
              "      border-right-color: var(--fill-color);\n",
              "      border-bottom-color: var(--fill-color);\n",
              "    }\n",
              "    90% {\n",
              "      border-color: transparent;\n",
              "      border-bottom-color: var(--fill-color);\n",
              "    }\n",
              "  }\n",
              "</style>\n",
              "\n",
              "      <script>\n",
              "        async function quickchart(key) {\n",
              "          const quickchartButtonEl =\n",
              "            document.querySelector('#' + key + ' button');\n",
              "          quickchartButtonEl.disabled = true;  // To prevent multiple clicks.\n",
              "          quickchartButtonEl.classList.add('colab-df-spinner');\n",
              "          try {\n",
              "            const charts = await google.colab.kernel.invokeFunction(\n",
              "                'suggestCharts', [key], {});\n",
              "          } catch (error) {\n",
              "            console.error('Error during call to suggestCharts:', error);\n",
              "          }\n",
              "          quickchartButtonEl.classList.remove('colab-df-spinner');\n",
              "          quickchartButtonEl.classList.add('colab-df-quickchart-complete');\n",
              "        }\n",
              "        (() => {\n",
              "          let quickchartButtonEl =\n",
              "            document.querySelector('#df-219c373f-63f9-4f26-b954-52eaf3e3a738 button');\n",
              "          quickchartButtonEl.style.display =\n",
              "            google.colab.kernel.accessAllowed ? 'block' : 'none';\n",
              "        })();\n",
              "      </script>\n",
              "    </div>\n",
              "\n",
              "    </div>\n",
              "  </div>\n"
            ],
            "application/vnd.google.colaboratory.intrinsic+json": {
              "type": "dataframe",
              "summary": "{\n  \"name\": \"df\",\n  \"rows\": 2,\n  \"fields\": [\n    {\n      \"column\": \"lunch\",\n      \"properties\": {\n        \"dtype\": \"string\",\n        \"num_unique_values\": 2,\n        \"samples\": [\n          \"standard\",\n          \"free/reduced\"\n        ],\n        \"semantic_type\": \"\",\n        \"description\": \"\"\n      }\n    },\n    {\n      \"column\": \"math score\",\n      \"properties\": {\n        \"dtype\": \"number\",\n        \"std\": 7.858064766342971,\n        \"min\": 58.92112676056338,\n        \"max\": 70.03410852713178,\n        \"num_unique_values\": 2,\n        \"samples\": [\n          70.03410852713178,\n          58.92112676056338\n        ],\n        \"semantic_type\": \"\",\n        \"description\": \"\"\n      }\n    },\n    {\n      \"column\": \"reading score\",\n      \"properties\": {\n        \"dtype\": \"number\",\n        \"std\": 4.950272452049912,\n        \"min\": 64.65352112676057,\n        \"max\": 71.65426356589147,\n        \"num_unique_values\": 2,\n        \"samples\": [\n          71.65426356589147,\n          64.65352112676057\n        ],\n        \"semantic_type\": \"\",\n        \"description\": \"\"\n      }\n    }\n  ]\n}"
            }
          },
          "metadata": {},
          "execution_count": 19
        }
      ],
      "source": [
        " df.groupby(\"lunch\")[[\"math score\", \"reading score\"]].mean()\n"
      ]
    },
    {
      "cell_type": "markdown",
      "source": [
        "la accion que propodria seria fortalecer los programas de nutricion escolar para los estudiantes con almuerzos subsidiados, ya que una mejor alimentación podría mejorar su rendimiento académico."
      ],
      "metadata": {
        "id": "hKHJyBThlSxS"
      },
      "id": "hKHJyBThlSxS"
    },
    {
      "cell_type": "markdown",
      "id": "1cc05360",
      "metadata": {
        "id": "1cc05360"
      },
      "source": [
        "### B10. Educación parental y rendimiento\n",
        "Agrupa por `parental level of education` y calcula el **promedio de `math score`**.\n",
        "- ¿Qué nivel se asocia con mejores resultados?\n",
        "- **Acción**: ¿qué intervención o programa harías basado en esto?\n",
        "\n",
        "_Escribe tu código y comentarios:_"
      ]
    },
    {
      "cell_type": "code",
      "execution_count": null,
      "id": "626c2260",
      "metadata": {
        "id": "626c2260",
        "colab": {
          "base_uri": "https://localhost:8080/",
          "height": 304
        },
        "outputId": "5a8d9fd7-5157-44ca-acc8-00d1f985c005"
      },
      "outputs": [
        {
          "output_type": "execute_result",
          "data": {
            "text/plain": [
              "parental level of education\n",
              "associate's degree    67.882883\n",
              "bachelor's degree     69.389831\n",
              "high school           62.137755\n",
              "master's degree       69.745763\n",
              "some college          67.128319\n",
              "some high school      63.497207\n",
              "Name: math score, dtype: float64"
            ],
            "text/html": [
              "<div>\n",
              "<style scoped>\n",
              "    .dataframe tbody tr th:only-of-type {\n",
              "        vertical-align: middle;\n",
              "    }\n",
              "\n",
              "    .dataframe tbody tr th {\n",
              "        vertical-align: top;\n",
              "    }\n",
              "\n",
              "    .dataframe thead th {\n",
              "        text-align: right;\n",
              "    }\n",
              "</style>\n",
              "<table border=\"1\" class=\"dataframe\">\n",
              "  <thead>\n",
              "    <tr style=\"text-align: right;\">\n",
              "      <th></th>\n",
              "      <th>math score</th>\n",
              "    </tr>\n",
              "    <tr>\n",
              "      <th>parental level of education</th>\n",
              "      <th></th>\n",
              "    </tr>\n",
              "  </thead>\n",
              "  <tbody>\n",
              "    <tr>\n",
              "      <th>associate's degree</th>\n",
              "      <td>67.882883</td>\n",
              "    </tr>\n",
              "    <tr>\n",
              "      <th>bachelor's degree</th>\n",
              "      <td>69.389831</td>\n",
              "    </tr>\n",
              "    <tr>\n",
              "      <th>high school</th>\n",
              "      <td>62.137755</td>\n",
              "    </tr>\n",
              "    <tr>\n",
              "      <th>master's degree</th>\n",
              "      <td>69.745763</td>\n",
              "    </tr>\n",
              "    <tr>\n",
              "      <th>some college</th>\n",
              "      <td>67.128319</td>\n",
              "    </tr>\n",
              "    <tr>\n",
              "      <th>some high school</th>\n",
              "      <td>63.497207</td>\n",
              "    </tr>\n",
              "  </tbody>\n",
              "</table>\n",
              "</div><br><label><b>dtype:</b> float64</label>"
            ]
          },
          "metadata": {},
          "execution_count": 17
        }
      ],
      "source": [
        " df.groupby(\"parental level of education\")[\"math score\"].mean()\n"
      ]
    },
    {
      "cell_type": "markdown",
      "source": [
        "el nivel de educación parental que se asocia con mejores resultados en matematicas es el de masters degree\n",
        "\n",
        "la accion que se peud ehacer es que se podrían crear programas de tutorias dirigidos a estudiantes cuyos padres tienen menor nivel educativo, dando apoyo adicional en matematicas para compensar esa diferencia y reducir la brecha de rendimiento."
      ],
      "metadata": {
        "id": "1WXnH36Kmjr8"
      },
      "id": "1WXnH36Kmjr8"
    },
    {
      "cell_type": "markdown",
      "id": "1dd7725d",
      "metadata": {
        "id": "1dd7725d"
      },
      "source": [
        "### B11. Curso de preparación y puntaje\n",
        "Filtra estudiantes que **completaron** `test preparation course` y calcula el **promedio de `math score`**. Compáralo con quienes **no** lo completaron.\n",
        "- **Decisión**: ¿financiarías este curso? Explica.\n",
        "\n",
        "_Escribe tu código y comentarios:_"
      ]
    },
    {
      "cell_type": "code",
      "source": [
        "df.groupby(\"test preparation course\")[\"math score\"].mean()"
      ],
      "metadata": {
        "id": "SmmD8q4Cnnqi",
        "outputId": "6708362c-4e9c-4358-b9ce-36b65a3bd5c8",
        "colab": {
          "base_uri": "https://localhost:8080/",
          "height": 178
        }
      },
      "id": "SmmD8q4Cnnqi",
      "execution_count": null,
      "outputs": [
        {
          "output_type": "execute_result",
          "data": {
            "text/plain": [
              "test preparation course\n",
              "completed    69.695531\n",
              "none         64.077882\n",
              "Name: math score, dtype: float64"
            ],
            "text/html": [
              "<div>\n",
              "<style scoped>\n",
              "    .dataframe tbody tr th:only-of-type {\n",
              "        vertical-align: middle;\n",
              "    }\n",
              "\n",
              "    .dataframe tbody tr th {\n",
              "        vertical-align: top;\n",
              "    }\n",
              "\n",
              "    .dataframe thead th {\n",
              "        text-align: right;\n",
              "    }\n",
              "</style>\n",
              "<table border=\"1\" class=\"dataframe\">\n",
              "  <thead>\n",
              "    <tr style=\"text-align: right;\">\n",
              "      <th></th>\n",
              "      <th>math score</th>\n",
              "    </tr>\n",
              "    <tr>\n",
              "      <th>test preparation course</th>\n",
              "      <th></th>\n",
              "    </tr>\n",
              "  </thead>\n",
              "  <tbody>\n",
              "    <tr>\n",
              "      <th>completed</th>\n",
              "      <td>69.695531</td>\n",
              "    </tr>\n",
              "    <tr>\n",
              "      <th>none</th>\n",
              "      <td>64.077882</td>\n",
              "    </tr>\n",
              "  </tbody>\n",
              "</table>\n",
              "</div><br><label><b>dtype:</b> float64</label>"
            ]
          },
          "metadata": {},
          "execution_count": 22
        }
      ]
    },
    {
      "cell_type": "markdown",
      "source": [
        "si, lo financiaria, porque los estudiantes que completan el curso obtienen mejores resultados en matematicas, lo que demuestra su buen rendimiento.\n",
        "\n"
      ],
      "metadata": {
        "id": "RgTGhcqAnX7g"
      },
      "id": "RgTGhcqAnX7g"
    },
    {
      "cell_type": "markdown",
      "id": "aa4a861b",
      "metadata": {
        "id": "aa4a861b"
      },
      "source": [
        "### B12. Doble agrupación (negocio)\n",
        "Crea una **tabla** agrupada por `gender` y `test preparation course` con el **promedio de `writing score`**.\n",
        "- ¿Qué combinación muestra mejores resultados?\n",
        "- **Recomendación**: ¿a quién priorizas para una beca del curso?\n",
        "\n",
        "_Escribe tu código y comentarios:_"
      ]
    },
    {
      "cell_type": "code",
      "execution_count": 24,
      "id": "714de25f",
      "metadata": {
        "id": "714de25f",
        "colab": {
          "base_uri": "https://localhost:8080/",
          "height": 241
        },
        "outputId": "6011ec86-90f8-46ec-aa39-27d0b7e4c932"
      },
      "outputs": [
        {
          "output_type": "execute_result",
          "data": {
            "text/plain": [
              "gender  test preparation course\n",
              "female  completed                  78.793478\n",
              "        none                       68.982036\n",
              "male    completed                  69.793103\n",
              "        none                       59.649351\n",
              "Name: writing score, dtype: float64"
            ],
            "text/html": [
              "<div>\n",
              "<style scoped>\n",
              "    .dataframe tbody tr th:only-of-type {\n",
              "        vertical-align: middle;\n",
              "    }\n",
              "\n",
              "    .dataframe tbody tr th {\n",
              "        vertical-align: top;\n",
              "    }\n",
              "\n",
              "    .dataframe thead th {\n",
              "        text-align: right;\n",
              "    }\n",
              "</style>\n",
              "<table border=\"1\" class=\"dataframe\">\n",
              "  <thead>\n",
              "    <tr style=\"text-align: right;\">\n",
              "      <th></th>\n",
              "      <th></th>\n",
              "      <th>writing score</th>\n",
              "    </tr>\n",
              "    <tr>\n",
              "      <th>gender</th>\n",
              "      <th>test preparation course</th>\n",
              "      <th></th>\n",
              "    </tr>\n",
              "  </thead>\n",
              "  <tbody>\n",
              "    <tr>\n",
              "      <th rowspan=\"2\" valign=\"top\">female</th>\n",
              "      <th>completed</th>\n",
              "      <td>78.793478</td>\n",
              "    </tr>\n",
              "    <tr>\n",
              "      <th>none</th>\n",
              "      <td>68.982036</td>\n",
              "    </tr>\n",
              "    <tr>\n",
              "      <th rowspan=\"2\" valign=\"top\">male</th>\n",
              "      <th>completed</th>\n",
              "      <td>69.793103</td>\n",
              "    </tr>\n",
              "    <tr>\n",
              "      <th>none</th>\n",
              "      <td>59.649351</td>\n",
              "    </tr>\n",
              "  </tbody>\n",
              "</table>\n",
              "</div><br><label><b>dtype:</b> float64</label>"
            ]
          },
          "metadata": {},
          "execution_count": 24
        }
      ],
      "source": [
        "df.groupby([\"gender\", \"test preparation course\"])[\"writing score\"].mean()"
      ]
    },
    {
      "cell_type": "markdown",
      "source": [
        "en mi recomedacion lo que harias es que priorizaria a las mujeres, para ayudarlas a cerrar la brecha de rendimiento en matematicas"
      ],
      "metadata": {
        "id": "w3an62yAoZYC"
      },
      "id": "w3an62yAoZYC"
    }
  ],
  "metadata": {
    "kernelspec": {
      "display_name": "Python 3",
      "language": "python",
      "name": "python3"
    },
    "language_info": {
      "name": "python",
      "version": "3.x"
    },
    "colab": {
      "provenance": []
    }
  },
  "nbformat": 4,
  "nbformat_minor": 5
}